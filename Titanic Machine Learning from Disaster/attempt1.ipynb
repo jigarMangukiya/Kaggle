{
 "cells": [
  {
   "cell_type": "code",
   "execution_count": 2,
   "metadata": {},
   "outputs": [],
   "source": [
    "# Importing some packages\n",
    "\n",
    "import time\n",
    "import numpy as np\n",
    "import pandas as pd\n",
    "\n",
    "from collections import Counter\n",
    "\n",
    "from sklearn import tree\n",
    "from sklearn.preprocessing import LabelEncoder\n",
    "from sklearn.model_selection import train_test_split"
   ]
  },
  {
   "cell_type": "code",
   "execution_count": 3,
   "metadata": {},
   "outputs": [],
   "source": [
    "# Read data training & testing data\n",
    "\n",
    "trainData = pd.read_csv(\"./Data/titanic/train.csv\")\n",
    "testData = pd.read_csv(\"./Data/titanic/test.csv\")\n",
    "\n",
    "\n",
    "# Dropping unnecessary features\n",
    "# 1. PassengerId\n",
    "# 2. Name\n",
    "# 3. Ticket\n",
    "\n",
    "# trainData[\"Embarked\"].astype(\"str\")\n",
    "\n",
    "\n",
    "trainData = trainData[~pd.isnull(trainData[\"Embarked\"])]\n",
    "# testData = testData[~pd.isnull(testData[\"Embarked\"])]\n",
    "trainData = trainData[~pd.isnull(trainData[\"Age\"])]\n",
    "# testData = testData[~pd.isnull(testData[\"Age\"])]\n",
    "# testData = testData[~pd.isnull(testData[\"Fare\"])]\n",
    "\n",
    "\n",
    "\n",
    "\n",
    "\n",
    "trainTarget = trainData[\"Survived\"]\n",
    "testPId = testData[\"PassengerId\"]\n",
    "trainData = trainData.drop([\"Name\", \"Ticket\", \"PassengerId\", \"Survived\", \"Cabin\"], axis = 1)\n",
    "testData = testData.drop([\"Name\", \"Ticket\", \"PassengerId\", \"Cabin\"], axis = 1)"
   ]
  },
  {
   "cell_type": "code",
   "execution_count": 151,
   "metadata": {},
   "outputs": [
    {
     "data": {
      "text/html": [
       "<div>\n",
       "<style scoped>\n",
       "    .dataframe tbody tr th:only-of-type {\n",
       "        vertical-align: middle;\n",
       "    }\n",
       "\n",
       "    .dataframe tbody tr th {\n",
       "        vertical-align: top;\n",
       "    }\n",
       "\n",
       "    .dataframe thead th {\n",
       "        text-align: right;\n",
       "    }\n",
       "</style>\n",
       "<table border=\"1\" class=\"dataframe\">\n",
       "  <thead>\n",
       "    <tr style=\"text-align: right;\">\n",
       "      <th></th>\n",
       "      <th>Pclass</th>\n",
       "      <th>Sex</th>\n",
       "      <th>Age</th>\n",
       "      <th>SibSp</th>\n",
       "      <th>Parch</th>\n",
       "      <th>Fare</th>\n",
       "      <th>Embarked</th>\n",
       "    </tr>\n",
       "  </thead>\n",
       "  <tbody>\n",
       "    <tr>\n",
       "      <td>0</td>\n",
       "      <td>3</td>\n",
       "      <td>1</td>\n",
       "      <td>22.0</td>\n",
       "      <td>1</td>\n",
       "      <td>0</td>\n",
       "      <td>7.2500</td>\n",
       "      <td>2</td>\n",
       "    </tr>\n",
       "    <tr>\n",
       "      <td>1</td>\n",
       "      <td>1</td>\n",
       "      <td>0</td>\n",
       "      <td>38.0</td>\n",
       "      <td>1</td>\n",
       "      <td>0</td>\n",
       "      <td>71.2833</td>\n",
       "      <td>0</td>\n",
       "    </tr>\n",
       "    <tr>\n",
       "      <td>2</td>\n",
       "      <td>3</td>\n",
       "      <td>0</td>\n",
       "      <td>26.0</td>\n",
       "      <td>0</td>\n",
       "      <td>0</td>\n",
       "      <td>7.9250</td>\n",
       "      <td>2</td>\n",
       "    </tr>\n",
       "    <tr>\n",
       "      <td>3</td>\n",
       "      <td>1</td>\n",
       "      <td>0</td>\n",
       "      <td>35.0</td>\n",
       "      <td>1</td>\n",
       "      <td>0</td>\n",
       "      <td>53.1000</td>\n",
       "      <td>2</td>\n",
       "    </tr>\n",
       "    <tr>\n",
       "      <td>4</td>\n",
       "      <td>3</td>\n",
       "      <td>1</td>\n",
       "      <td>35.0</td>\n",
       "      <td>0</td>\n",
       "      <td>0</td>\n",
       "      <td>8.0500</td>\n",
       "      <td>2</td>\n",
       "    </tr>\n",
       "  </tbody>\n",
       "</table>\n",
       "</div>"
      ],
      "text/plain": [
       "   Pclass  Sex   Age  SibSp  Parch     Fare  Embarked\n",
       "0       3    1  22.0      1      0   7.2500         2\n",
       "1       1    0  38.0      1      0  71.2833         0\n",
       "2       3    0  26.0      0      0   7.9250         2\n",
       "3       1    0  35.0      1      0  53.1000         2\n",
       "4       3    1  35.0      0      0   8.0500         2"
      ]
     },
     "execution_count": 151,
     "metadata": {},
     "output_type": "execute_result"
    }
   ],
   "source": [
    "trainData.head()\n",
    "# trainData.shape"
   ]
  },
  {
   "cell_type": "code",
   "execution_count": 208,
   "metadata": {},
   "outputs": [
    {
     "data": {
      "text/plain": [
       "34.56725140449432"
      ]
     },
     "execution_count": 208,
     "metadata": {},
     "output_type": "execute_result"
    }
   ],
   "source": [
    "# testData.shape\n",
    "# testData.head()\n",
    "np.mean(trainData[\"Fare\"])\n",
    "# Counter(list(trainData[\"Fare\"]))"
   ]
  },
  {
   "cell_type": "code",
   "execution_count": 226,
   "metadata": {},
   "outputs": [
    {
     "data": {
      "text/plain": [
       "array([2], dtype=int64)"
      ]
     },
     "execution_count": 226,
     "metadata": {},
     "output_type": "execute_result"
    }
   ],
   "source": [
    "genderEncoder = LabelEncoder()\n",
    "genderEncoder = genderEncoder.fit(trainData[\"Sex\"])\n",
    "trainData[\"Sex\"] = genderEncoder.transform(trainData[\"Sex\"])\n",
    "testData[\"Sex\"] = genderEncoder.transform(testData[\"Sex\"])\n",
    "\n",
    "embarkEncoder = LabelEncoder()\n",
    "embarkEncoder = embarkEncoder.fit(trainData[\"Embarked\"])\n",
    "trainData[\"Embarked\"] = embarkEncoder.transform(trainData[\"Embarked\"])\n",
    "testData[\"Embarked\"] = embarkEncoder.transform(testData[\"Embarked\"])\n",
    "\n",
    "embarkEncoder.transform([\"S\"])"
   ]
  },
  {
   "cell_type": "code",
   "execution_count": 227,
   "metadata": {},
   "outputs": [],
   "source": [
    "dtModel = tree.DecisionTreeClassifier()\n",
    "dtModel = dtModel.fit(trainData, trainTarget)"
   ]
  },
  {
   "cell_type": "code",
   "execution_count": 236,
   "metadata": {},
   "outputs": [],
   "source": [
    "testData[\"Age\"] = testData[\"Age\"].fillna(29.64)\n",
    "testData[\"Fare\"] = testData[\"Fare\"].replace(34.56)\n",
    "# testData[\"Embarked\"].fillna(2)\n",
    "\n",
    "preds = dtModel.predict(testData)"
   ]
  },
  {
   "cell_type": "code",
   "execution_count": 237,
   "metadata": {},
   "outputs": [],
   "source": [
    "resultDT = pd.DataFrame(list(zip( testPId, preds)), columns = [\"PassengerId\", \"Survived\"])\n",
    "# resultDT.columns = [\"PassengerId, Survived\"]\n",
    "# resultDT.shape\n",
    "resultDT.to_csv(\"./Result.csv\", index = False)"
   ]
  }
 ],
 "metadata": {
  "kernelspec": {
   "display_name": "Python 3",
   "language": "python",
   "name": "python3"
  },
  "language_info": {
   "codemirror_mode": {
    "name": "ipython",
    "version": 3
   },
   "file_extension": ".py",
   "mimetype": "text/x-python",
   "name": "python",
   "nbconvert_exporter": "python",
   "pygments_lexer": "ipython3",
   "version": "3.7.4"
  }
 },
 "nbformat": 4,
 "nbformat_minor": 4
}
